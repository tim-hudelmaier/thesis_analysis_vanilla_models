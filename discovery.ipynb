{
 "cells": [
  {
   "cell_type": "code",
   "execution_count": 63,
   "metadata": {
    "collapsed": true,
    "ExecuteTime": {
     "end_time": "2023-07-16T14:44:32.364206Z",
     "start_time": "2023-07-16T14:44:32.315487Z"
    }
   },
   "outputs": [],
   "source": [
    "import pandas as pd"
   ]
  },
  {
   "cell_type": "code",
   "execution_count": 64,
   "outputs": [],
   "source": [
    "df = pd.read_csv(\"thesis_results_1/E13_merged.csv\")\n",
    "q_val_cols = [c for c in df.columns if \"q-value_\" in c and not \"xtandem\" in c]\n",
    "df = df[df[q_val_cols].min(axis=1) < 0.01]"
   ],
   "metadata": {
    "collapsed": false,
    "ExecuteTime": {
     "end_time": "2023-07-16T14:44:44.614977Z",
     "start_time": "2023-07-16T14:44:32.323349Z"
    }
   }
  },
  {
   "cell_type": "code",
   "execution_count": 65,
   "outputs": [],
   "source": [
    "df[\"Agreement\"] = \"0\"\n",
    "mask = (\n",
    "    (df[\"q-value_xgboost\"] < 0.01) & (df[\"q-value_random_forest\"] < 0.01)\n",
    ")\n",
    "df.loc[mask, \"Agreement\"] = \"1\""
   ],
   "metadata": {
    "collapsed": false,
    "ExecuteTime": {
     "end_time": "2023-07-16T14:44:44.620965Z",
     "start_time": "2023-07-16T14:44:44.617150Z"
    }
   }
  },
  {
   "cell_type": "markdown",
   "source": [],
   "metadata": {
    "collapsed": false
   }
  },
  {
   "cell_type": "code",
   "execution_count": 66,
   "outputs": [],
   "source": [
    "import numpy as np\n",
    "df[\"squared_q-value_diff\"] = np.square((df[\"q-value_xgboost\"]+1) - (df[\"q-value_random_forest\"]+1))"
   ],
   "metadata": {
    "collapsed": false,
    "ExecuteTime": {
     "end_time": "2023-07-16T14:44:44.630957Z",
     "start_time": "2023-07-16T14:44:44.626276Z"
    }
   }
  },
  {
   "cell_type": "code",
   "execution_count": 67,
   "outputs": [],
   "source": [
    "xgb_cols = [col for col in df.columns if \"xgboost\" in col]\n",
    "rf_cols = [col for col in df.columns if \"random_forest\" in col]\n",
    "core_idx_cols = [\n",
    "        \"raw_data_location\",\n",
    "        \"spectrum_id\",\n",
    "        \"sequence\",\n",
    "        \"modifications\",\n",
    "        \"is_decoy\",\n",
    "        \"protein_id\",\n",
    "        \"charge\",\n",
    "    ]\n",
    "df = df[core_idx_cols + xgb_cols + rf_cols + [\"Agreement\", \"squared_q-value_diff\"]]"
   ],
   "metadata": {
    "collapsed": false,
    "ExecuteTime": {
     "end_time": "2023-07-16T14:44:44.634681Z",
     "start_time": "2023-07-16T14:44:44.633094Z"
    }
   }
  },
  {
   "cell_type": "code",
   "execution_count": 68,
   "outputs": [
    {
     "data": {
      "text/plain": "                                raw_data_location  spectrum_id       sequence   \n1108518  mzmls/04854_F1_R8_P0109699E13_TMT10.mzML        46279       VLDPFTLK  \\\n741391   mzmls/04854_F1_R8_P0109699E13_TMT10.mzML        32304      GPFADENFK   \n787338   mzmls/04854_F1_R8_P0109699E13_TMT10.mzML        34237    ATDFVVPGPGK   \n758498   mzmls/04854_F1_R8_P0109699E13_TMT10.mzML        33022     QDLTTLDVTK   \n946197   mzmls/04854_F1_R8_P0109699E13_TMT10.mzML        40560  AEQLFSSALCAAR   \n...                                           ...          ...            ...   \n759638   mzmls/04854_F1_R8_P0109699E13_TMT10.mzML        33070   FTLALKPDVGQR   \n833034   mzmls/04854_F1_R8_P0109699E13_TMT10.mzML        36102         LALLSK   \n958093   mzmls/04854_F1_R8_P0109699E13_TMT10.mzML        41015      LPALVSLSR   \n726951   mzmls/04854_F1_R8_P0109699E13_TMT10.mzML        31709    YGPPPSYPNLK   \n416538   mzmls/04854_F1_R8_P0109699E13_TMT10.mzML        18626     DDEDADYKPK   \n\n                             modifications  is_decoy   \n1108518              TMT6plex:0;TMT6plex:8     False  \\\n741391               TMT6plex:0;TMT6plex:9     False   \n787338              TMT6plex:0;TMT6plex:11     False   \n758498              TMT6plex:0;TMT6plex:10     False   \n946197       TMT6plex:0;Carbamidomethyl:10     False   \n...                                    ...       ...   \n759638               TMT6plex:0;TMT6plex:6      True   \n833034               TMT6plex:0;TMT6plex:6      True   \n958093                          TMT6plex:0     False   \n726951              TMT6plex:0;TMT6plex:11     False   \n416538   TMT6plex:0;TMT6plex:8;TMT6plex:10      True   \n\n                                                protein_id  charge   \n1108518  tr|A0A0B4J1R6|A0A0B4J1R6_HUMAN Isoform of P294...       2  \\\n741391   tr|C9JQD4|C9JQD4_HUMAN Isoform of O43447, Pept...       2   \n787338   tr|C9J4N6|C9J4N6_HUMAN Isoform of O75874, Isoc...       2   \n758498   tr|F8W810|F8W810_HUMAN Uncharacterized protein...       2   \n946197   sp|Q96GD0|PLPP_HUMAN Pyridoxal phosphate phosp...       2   \n...                                                    ...     ...   \n759638   decoy_tr|C9K028|C9K028_HUMAN Isoform of P15531...       2   \n833034   tr|A0A087X1I8|A0A087X1I8_HUMAN Isoform of Q7Z3...       2   \n958093   sp|Q9UHR6|ZNHI2_HUMAN Zinc finger HIT domain-c...       2   \n726951   tr|E9PPJ0|E9PPJ0_HUMAN Isoform of Q13435, Spli...       2   \n416538   decoy_sp|P11387|TOP1_HUMAN DNA topoisomerase 1...       2   \n\n         score_processed_xgboost  q-value_xgboost  top_target_xgboost   \n1108518                 0.879138              1.0               False  \\\n741391                 -0.920037              1.0               False   \n787338                 -0.916410              1.0               False   \n758498                 -0.933023              1.0               False   \n946197                 -0.715596              1.0               False   \n...                          ...              ...                 ...   \n759638                 -0.524965              1.0               False   \n833034                 -0.816423              1.0               False   \n958093                 -0.869199              1.0               False   \n726951                  0.012184              1.0               False   \n416538                  0.215228              1.0               False   \n\n         rank_xgboost  score_processed_random_forest  q-value_random_forest   \n1108518       18428.0                       0.980000               0.001782  \\\n741391      1025017.0                       0.976667               0.002195   \n787338      1018725.0                       0.973333               0.002239   \n758498      1047139.0                       0.973333               0.002240   \n946197       766004.0                       0.966667               0.002614   \n...               ...                            ...                    ...   \n759638       613293.0                      -0.233333               1.000000   \n833034       872277.0                      -0.846667               1.000000   \n958093       942359.0                      -0.733213               1.000000   \n726951        74690.0                       0.400000               1.000000   \n416538        37702.0                      -0.206667               1.000000   \n\n         top_target_random_forest  rank_random_forest Agreement   \n1108518                      True             14114.0         0  \\\n741391                       True             14350.0         0   \n787338                       True             14718.0         0   \n758498                       True             14704.0         0   \n946197                       True             15415.0         0   \n...                           ...                 ...       ...   \n759638                      False             31371.0         0   \n833034                      False             43584.0         0   \n958093                      False             38879.0         0   \n726951                      False             24379.0         0   \n416538                      False             31036.0         0   \n\n         squared_q-value_diff  \n1108518              0.996440  \n741391               0.995615  \n787338               0.995526  \n758498               0.995525  \n946197               0.994778  \n...                       ...  \n759638               0.000000  \n833034               0.000000  \n958093               0.000000  \n726951               0.000000  \n416538               0.000000  \n\n[2353 rows x 17 columns]",
      "text/html": "<div>\n<style scoped>\n    .dataframe tbody tr th:only-of-type {\n        vertical-align: middle;\n    }\n\n    .dataframe tbody tr th {\n        vertical-align: top;\n    }\n\n    .dataframe thead th {\n        text-align: right;\n    }\n</style>\n<table border=\"1\" class=\"dataframe\">\n  <thead>\n    <tr style=\"text-align: right;\">\n      <th></th>\n      <th>raw_data_location</th>\n      <th>spectrum_id</th>\n      <th>sequence</th>\n      <th>modifications</th>\n      <th>is_decoy</th>\n      <th>protein_id</th>\n      <th>charge</th>\n      <th>score_processed_xgboost</th>\n      <th>q-value_xgboost</th>\n      <th>top_target_xgboost</th>\n      <th>rank_xgboost</th>\n      <th>score_processed_random_forest</th>\n      <th>q-value_random_forest</th>\n      <th>top_target_random_forest</th>\n      <th>rank_random_forest</th>\n      <th>Agreement</th>\n      <th>squared_q-value_diff</th>\n    </tr>\n  </thead>\n  <tbody>\n    <tr>\n      <th>1108518</th>\n      <td>mzmls/04854_F1_R8_P0109699E13_TMT10.mzML</td>\n      <td>46279</td>\n      <td>VLDPFTLK</td>\n      <td>TMT6plex:0;TMT6plex:8</td>\n      <td>False</td>\n      <td>tr|A0A0B4J1R6|A0A0B4J1R6_HUMAN Isoform of P294...</td>\n      <td>2</td>\n      <td>0.879138</td>\n      <td>1.0</td>\n      <td>False</td>\n      <td>18428.0</td>\n      <td>0.980000</td>\n      <td>0.001782</td>\n      <td>True</td>\n      <td>14114.0</td>\n      <td>0</td>\n      <td>0.996440</td>\n    </tr>\n    <tr>\n      <th>741391</th>\n      <td>mzmls/04854_F1_R8_P0109699E13_TMT10.mzML</td>\n      <td>32304</td>\n      <td>GPFADENFK</td>\n      <td>TMT6plex:0;TMT6plex:9</td>\n      <td>False</td>\n      <td>tr|C9JQD4|C9JQD4_HUMAN Isoform of O43447, Pept...</td>\n      <td>2</td>\n      <td>-0.920037</td>\n      <td>1.0</td>\n      <td>False</td>\n      <td>1025017.0</td>\n      <td>0.976667</td>\n      <td>0.002195</td>\n      <td>True</td>\n      <td>14350.0</td>\n      <td>0</td>\n      <td>0.995615</td>\n    </tr>\n    <tr>\n      <th>787338</th>\n      <td>mzmls/04854_F1_R8_P0109699E13_TMT10.mzML</td>\n      <td>34237</td>\n      <td>ATDFVVPGPGK</td>\n      <td>TMT6plex:0;TMT6plex:11</td>\n      <td>False</td>\n      <td>tr|C9J4N6|C9J4N6_HUMAN Isoform of O75874, Isoc...</td>\n      <td>2</td>\n      <td>-0.916410</td>\n      <td>1.0</td>\n      <td>False</td>\n      <td>1018725.0</td>\n      <td>0.973333</td>\n      <td>0.002239</td>\n      <td>True</td>\n      <td>14718.0</td>\n      <td>0</td>\n      <td>0.995526</td>\n    </tr>\n    <tr>\n      <th>758498</th>\n      <td>mzmls/04854_F1_R8_P0109699E13_TMT10.mzML</td>\n      <td>33022</td>\n      <td>QDLTTLDVTK</td>\n      <td>TMT6plex:0;TMT6plex:10</td>\n      <td>False</td>\n      <td>tr|F8W810|F8W810_HUMAN Uncharacterized protein...</td>\n      <td>2</td>\n      <td>-0.933023</td>\n      <td>1.0</td>\n      <td>False</td>\n      <td>1047139.0</td>\n      <td>0.973333</td>\n      <td>0.002240</td>\n      <td>True</td>\n      <td>14704.0</td>\n      <td>0</td>\n      <td>0.995525</td>\n    </tr>\n    <tr>\n      <th>946197</th>\n      <td>mzmls/04854_F1_R8_P0109699E13_TMT10.mzML</td>\n      <td>40560</td>\n      <td>AEQLFSSALCAAR</td>\n      <td>TMT6plex:0;Carbamidomethyl:10</td>\n      <td>False</td>\n      <td>sp|Q96GD0|PLPP_HUMAN Pyridoxal phosphate phosp...</td>\n      <td>2</td>\n      <td>-0.715596</td>\n      <td>1.0</td>\n      <td>False</td>\n      <td>766004.0</td>\n      <td>0.966667</td>\n      <td>0.002614</td>\n      <td>True</td>\n      <td>15415.0</td>\n      <td>0</td>\n      <td>0.994778</td>\n    </tr>\n    <tr>\n      <th>...</th>\n      <td>...</td>\n      <td>...</td>\n      <td>...</td>\n      <td>...</td>\n      <td>...</td>\n      <td>...</td>\n      <td>...</td>\n      <td>...</td>\n      <td>...</td>\n      <td>...</td>\n      <td>...</td>\n      <td>...</td>\n      <td>...</td>\n      <td>...</td>\n      <td>...</td>\n      <td>...</td>\n      <td>...</td>\n    </tr>\n    <tr>\n      <th>759638</th>\n      <td>mzmls/04854_F1_R8_P0109699E13_TMT10.mzML</td>\n      <td>33070</td>\n      <td>FTLALKPDVGQR</td>\n      <td>TMT6plex:0;TMT6plex:6</td>\n      <td>True</td>\n      <td>decoy_tr|C9K028|C9K028_HUMAN Isoform of P15531...</td>\n      <td>2</td>\n      <td>-0.524965</td>\n      <td>1.0</td>\n      <td>False</td>\n      <td>613293.0</td>\n      <td>-0.233333</td>\n      <td>1.000000</td>\n      <td>False</td>\n      <td>31371.0</td>\n      <td>0</td>\n      <td>0.000000</td>\n    </tr>\n    <tr>\n      <th>833034</th>\n      <td>mzmls/04854_F1_R8_P0109699E13_TMT10.mzML</td>\n      <td>36102</td>\n      <td>LALLSK</td>\n      <td>TMT6plex:0;TMT6plex:6</td>\n      <td>True</td>\n      <td>tr|A0A087X1I8|A0A087X1I8_HUMAN Isoform of Q7Z3...</td>\n      <td>2</td>\n      <td>-0.816423</td>\n      <td>1.0</td>\n      <td>False</td>\n      <td>872277.0</td>\n      <td>-0.846667</td>\n      <td>1.000000</td>\n      <td>False</td>\n      <td>43584.0</td>\n      <td>0</td>\n      <td>0.000000</td>\n    </tr>\n    <tr>\n      <th>958093</th>\n      <td>mzmls/04854_F1_R8_P0109699E13_TMT10.mzML</td>\n      <td>41015</td>\n      <td>LPALVSLSR</td>\n      <td>TMT6plex:0</td>\n      <td>False</td>\n      <td>sp|Q9UHR6|ZNHI2_HUMAN Zinc finger HIT domain-c...</td>\n      <td>2</td>\n      <td>-0.869199</td>\n      <td>1.0</td>\n      <td>False</td>\n      <td>942359.0</td>\n      <td>-0.733213</td>\n      <td>1.000000</td>\n      <td>False</td>\n      <td>38879.0</td>\n      <td>0</td>\n      <td>0.000000</td>\n    </tr>\n    <tr>\n      <th>726951</th>\n      <td>mzmls/04854_F1_R8_P0109699E13_TMT10.mzML</td>\n      <td>31709</td>\n      <td>YGPPPSYPNLK</td>\n      <td>TMT6plex:0;TMT6plex:11</td>\n      <td>False</td>\n      <td>tr|E9PPJ0|E9PPJ0_HUMAN Isoform of Q13435, Spli...</td>\n      <td>2</td>\n      <td>0.012184</td>\n      <td>1.0</td>\n      <td>False</td>\n      <td>74690.0</td>\n      <td>0.400000</td>\n      <td>1.000000</td>\n      <td>False</td>\n      <td>24379.0</td>\n      <td>0</td>\n      <td>0.000000</td>\n    </tr>\n    <tr>\n      <th>416538</th>\n      <td>mzmls/04854_F1_R8_P0109699E13_TMT10.mzML</td>\n      <td>18626</td>\n      <td>DDEDADYKPK</td>\n      <td>TMT6plex:0;TMT6plex:8;TMT6plex:10</td>\n      <td>True</td>\n      <td>decoy_sp|P11387|TOP1_HUMAN DNA topoisomerase 1...</td>\n      <td>2</td>\n      <td>0.215228</td>\n      <td>1.0</td>\n      <td>False</td>\n      <td>37702.0</td>\n      <td>-0.206667</td>\n      <td>1.000000</td>\n      <td>False</td>\n      <td>31036.0</td>\n      <td>0</td>\n      <td>0.000000</td>\n    </tr>\n  </tbody>\n</table>\n<p>2353 rows × 17 columns</p>\n</div>"
     },
     "execution_count": 68,
     "metadata": {},
     "output_type": "execute_result"
    }
   ],
   "source": [
    "df[df[\"Agreement\"] == \"0\"].sort_values(\"squared_q-value_diff\", ascending=False)"
   ],
   "metadata": {
    "collapsed": false,
    "ExecuteTime": {
     "end_time": "2023-07-16T14:44:44.660283Z",
     "start_time": "2023-07-16T14:44:44.637227Z"
    }
   }
  },
  {
   "cell_type": "code",
   "execution_count": 69,
   "outputs": [
    {
     "data": {
      "text/plain": "Index([1108518,  741391,  787338,  758498,  946197,  863852,  830580, 1051003,\n       1088393,  825508],\n      dtype='int64')"
     },
     "execution_count": 69,
     "metadata": {},
     "output_type": "execute_result"
    }
   ],
   "source": [
    "df[df[\"Agreement\"] == \"0\"].sort_values([\"squared_q-value_diff\", \"rank_xgboost\"], ascending=[False, True]).index[:10]"
   ],
   "metadata": {
    "collapsed": false,
    "ExecuteTime": {
     "end_time": "2023-07-16T14:44:44.671150Z",
     "start_time": "2023-07-16T14:44:44.652953Z"
    }
   }
  },
  {
   "cell_type": "code",
   "execution_count": 70,
   "outputs": [
    {
     "data": {
      "text/plain": "Index([1108518,  741391,  787338,  758498,  946197,  863852,  830580, 1051003,\n       1088393,  825508],\n      dtype='int64')"
     },
     "execution_count": 70,
     "metadata": {},
     "output_type": "execute_result"
    }
   ],
   "source": [
    "df[df[\"Agreement\"] == \"0\"].sort_values([\"squared_q-value_diff\", \"rank_random_forest\"], ascending=[False, True]).index[:10]"
   ],
   "metadata": {
    "collapsed": false,
    "ExecuteTime": {
     "end_time": "2023-07-16T14:44:44.671364Z",
     "start_time": "2023-07-16T14:44:44.665347Z"
    }
   }
  },
  {
   "cell_type": "code",
   "execution_count": 71,
   "outputs": [
    {
     "data": {
      "text/plain": "Index([1108518,  741391,  787338,  758498,  946197,  863852,  830580, 1051003,\n       1088393,  825508],\n      dtype='int64')"
     },
     "execution_count": 71,
     "metadata": {},
     "output_type": "execute_result"
    }
   ],
   "source": [
    "df.sort_values(\"squared_q-value_diff\", ascending=False).index[:10]"
   ],
   "metadata": {
    "collapsed": false,
    "ExecuteTime": {
     "end_time": "2023-07-16T14:44:44.682365Z",
     "start_time": "2023-07-16T14:44:44.672907Z"
    }
   }
  },
  {
   "cell_type": "code",
   "execution_count": 71,
   "outputs": [],
   "source": [],
   "metadata": {
    "collapsed": false,
    "ExecuteTime": {
     "end_time": "2023-07-16T14:44:44.682486Z",
     "start_time": "2023-07-16T14:44:44.679119Z"
    }
   }
  },
  {
   "cell_type": "code",
   "execution_count": 72,
   "outputs": [
    {
     "data": {
      "text/plain": "Index([1108518, 741391, 787338, 758498, 946197], dtype='int64')"
     },
     "execution_count": 72,
     "metadata": {},
     "output_type": "execute_result"
    }
   ],
   "source": [
    "df.sort_values([\"squared_q-value_diff\", \"rank_xgboost\"], ascending=[False, True]).head(5).index"
   ],
   "metadata": {
    "collapsed": false,
    "ExecuteTime": {
     "end_time": "2023-07-16T14:44:44.756053Z",
     "start_time": "2023-07-16T14:44:44.681612Z"
    }
   }
  },
  {
   "cell_type": "code",
   "execution_count": 73,
   "outputs": [
    {
     "data": {
      "text/plain": "Index([1108518, 741391, 787338, 758498, 946197], dtype='int64')"
     },
     "execution_count": 73,
     "metadata": {},
     "output_type": "execute_result"
    }
   ],
   "source": [
    "df.sort_values([\"squared_q-value_diff\", \"rank_random_forest\"], ascending=[False, True]).head(5).index"
   ],
   "metadata": {
    "collapsed": false,
    "ExecuteTime": {
     "end_time": "2023-07-16T14:44:44.856654Z",
     "start_time": "2023-07-16T14:44:44.698066Z"
    }
   }
  },
  {
   "cell_type": "code",
   "execution_count": 74,
   "outputs": [
    {
     "data": {
      "text/plain": "Index([88392, 803133, 551909, 862280, 672816, 563152, 949853, 719431, 795174,\n       659651],\n      dtype='int64')"
     },
     "execution_count": 74,
     "metadata": {},
     "output_type": "execute_result"
    }
   ],
   "source": [
    "df[df[\"Agreement\"] == \"1\"].sort_values([\"rank_xgboost\", \"rank_random_forest\"], ascending=[True, True]).index[:10]"
   ],
   "metadata": {
    "collapsed": false,
    "ExecuteTime": {
     "end_time": "2023-07-16T14:44:44.857046Z",
     "start_time": "2023-07-16T14:44:44.717286Z"
    }
   }
  },
  {
   "cell_type": "markdown",
   "source": [],
   "metadata": {
    "collapsed": false
   }
  },
  {
   "cell_type": "code",
   "execution_count": 75,
   "outputs": [
    {
     "data": {
      "text/plain": "Index([88392, 803133, 551909, 862280, 672816, 563152, 949853, 719431, 795174,\n       659651],\n      dtype='int64')"
     },
     "execution_count": 75,
     "metadata": {},
     "output_type": "execute_result"
    }
   ],
   "source": [
    "df.sort_values(\"rank_xgboost\", ascending=True).index[:10]"
   ],
   "metadata": {
    "collapsed": false,
    "ExecuteTime": {
     "end_time": "2023-07-16T14:44:44.857360Z",
     "start_time": "2023-07-16T14:44:44.735541Z"
    }
   }
  },
  {
   "cell_type": "code",
   "execution_count": 76,
   "outputs": [
    {
     "data": {
      "text/plain": "Index([2669, 4378, 13349, 17334, 19890, 26302, 26629, 27012, 33227, 33270], dtype='int64')"
     },
     "execution_count": 76,
     "metadata": {},
     "output_type": "execute_result"
    }
   ],
   "source": [
    "df.sort_values(\"rank_random_forest\", ascending=True).index[:10]"
   ],
   "metadata": {
    "collapsed": false,
    "ExecuteTime": {
     "end_time": "2023-07-16T14:44:44.857461Z",
     "start_time": "2023-07-16T14:44:44.748550Z"
    }
   }
  },
  {
   "cell_type": "code",
   "execution_count": 77,
   "outputs": [],
   "source": [
    "specs = [\n",
    "        1108518,  # disagree n1\n",
    "        741391,  # disagree, n2\n",
    "        803133,  # highest ranked xgb\n",
    "        2669,  # highest ranked rf\n",
    "    ]"
   ],
   "metadata": {
    "collapsed": false,
    "ExecuteTime": {
     "end_time": "2023-07-16T14:44:44.857855Z",
     "start_time": "2023-07-16T14:44:44.751591Z"
    }
   }
  },
  {
   "cell_type": "code",
   "execution_count": 78,
   "outputs": [
    {
     "data": {
      "text/plain": "[46279, 32304, 34887, 2468]"
     },
     "execution_count": 78,
     "metadata": {},
     "output_type": "execute_result"
    }
   ],
   "source": [
    "df.loc[specs, \"spectrum_id\"].to_list()"
   ],
   "metadata": {
    "collapsed": false,
    "ExecuteTime": {
     "end_time": "2023-07-16T14:44:44.857983Z",
     "start_time": "2023-07-16T14:44:44.758759Z"
    }
   }
  },
  {
   "cell_type": "code",
   "execution_count": 79,
   "outputs": [
    {
     "data": {
      "text/plain": "                                raw_data_location  spectrum_id      sequence   \n1108518  mzmls/04854_F1_R8_P0109699E13_TMT10.mzML        46279      VLDPFTLK  \\\n741391   mzmls/04854_F1_R8_P0109699E13_TMT10.mzML        32304     GPFADENFK   \n803133   mzmls/04854_F1_R8_P0109699E13_TMT10.mzML        34887  PGLAAPLLGTSR   \n2669     mzmls/04854_F1_R8_P0109699E13_TMT10.mzML         2468      QHTHDAPR   \n\n                 modifications  is_decoy   \n1108518  TMT6plex:0;TMT6plex:8     False  \\\n741391   TMT6plex:0;TMT6plex:9     False   \n803133              TMT6plex:0     False   \n2669                TMT6plex:0     False   \n\n                                                protein_id  charge   \n1108518  tr|A0A0B4J1R6|A0A0B4J1R6_HUMAN Isoform of P294...       2  \\\n741391   tr|C9JQD4|C9JQD4_HUMAN Isoform of O43447, Pept...       2   \n803133   sp|P77735|YAJO_ECOLI Uncharacterized oxidoredu...       2   \n2669     sp|P0AGK8|ISCR_ECOLI HTH-type transcriptional ...       2   \n\n         score_processed_xgboost  q-value_xgboost  top_target_xgboost   \n1108518                 0.879138         1.000000               False  \\\n741391                 -0.920037         1.000000               False   \n803133                  1.136610         0.000000                True   \n2669                    1.000718         0.002557                True   \n\n         rank_xgboost  score_processed_random_forest  q-value_random_forest   \n1108518       18428.0                       0.980000               0.001782  \\\n741391      1025017.0                       0.976667               0.002195   \n803133            2.0                       0.967275               0.002389   \n2669           1055.0                       1.000000               0.000415   \n\n         top_target_random_forest  rank_random_forest Agreement   \n1108518                      True             14114.0         0  \\\n741391                       True             14350.0         0   \n803133                       True             15067.0         1   \n2669                         True                 1.0         1   \n\n         squared_q-value_diff  \n1108518              0.996440  \n741391               0.995615  \n803133               0.000006  \n2669                 0.000005  ",
      "text/html": "<div>\n<style scoped>\n    .dataframe tbody tr th:only-of-type {\n        vertical-align: middle;\n    }\n\n    .dataframe tbody tr th {\n        vertical-align: top;\n    }\n\n    .dataframe thead th {\n        text-align: right;\n    }\n</style>\n<table border=\"1\" class=\"dataframe\">\n  <thead>\n    <tr style=\"text-align: right;\">\n      <th></th>\n      <th>raw_data_location</th>\n      <th>spectrum_id</th>\n      <th>sequence</th>\n      <th>modifications</th>\n      <th>is_decoy</th>\n      <th>protein_id</th>\n      <th>charge</th>\n      <th>score_processed_xgboost</th>\n      <th>q-value_xgboost</th>\n      <th>top_target_xgboost</th>\n      <th>rank_xgboost</th>\n      <th>score_processed_random_forest</th>\n      <th>q-value_random_forest</th>\n      <th>top_target_random_forest</th>\n      <th>rank_random_forest</th>\n      <th>Agreement</th>\n      <th>squared_q-value_diff</th>\n    </tr>\n  </thead>\n  <tbody>\n    <tr>\n      <th>1108518</th>\n      <td>mzmls/04854_F1_R8_P0109699E13_TMT10.mzML</td>\n      <td>46279</td>\n      <td>VLDPFTLK</td>\n      <td>TMT6plex:0;TMT6plex:8</td>\n      <td>False</td>\n      <td>tr|A0A0B4J1R6|A0A0B4J1R6_HUMAN Isoform of P294...</td>\n      <td>2</td>\n      <td>0.879138</td>\n      <td>1.000000</td>\n      <td>False</td>\n      <td>18428.0</td>\n      <td>0.980000</td>\n      <td>0.001782</td>\n      <td>True</td>\n      <td>14114.0</td>\n      <td>0</td>\n      <td>0.996440</td>\n    </tr>\n    <tr>\n      <th>741391</th>\n      <td>mzmls/04854_F1_R8_P0109699E13_TMT10.mzML</td>\n      <td>32304</td>\n      <td>GPFADENFK</td>\n      <td>TMT6plex:0;TMT6plex:9</td>\n      <td>False</td>\n      <td>tr|C9JQD4|C9JQD4_HUMAN Isoform of O43447, Pept...</td>\n      <td>2</td>\n      <td>-0.920037</td>\n      <td>1.000000</td>\n      <td>False</td>\n      <td>1025017.0</td>\n      <td>0.976667</td>\n      <td>0.002195</td>\n      <td>True</td>\n      <td>14350.0</td>\n      <td>0</td>\n      <td>0.995615</td>\n    </tr>\n    <tr>\n      <th>803133</th>\n      <td>mzmls/04854_F1_R8_P0109699E13_TMT10.mzML</td>\n      <td>34887</td>\n      <td>PGLAAPLLGTSR</td>\n      <td>TMT6plex:0</td>\n      <td>False</td>\n      <td>sp|P77735|YAJO_ECOLI Uncharacterized oxidoredu...</td>\n      <td>2</td>\n      <td>1.136610</td>\n      <td>0.000000</td>\n      <td>True</td>\n      <td>2.0</td>\n      <td>0.967275</td>\n      <td>0.002389</td>\n      <td>True</td>\n      <td>15067.0</td>\n      <td>1</td>\n      <td>0.000006</td>\n    </tr>\n    <tr>\n      <th>2669</th>\n      <td>mzmls/04854_F1_R8_P0109699E13_TMT10.mzML</td>\n      <td>2468</td>\n      <td>QHTHDAPR</td>\n      <td>TMT6plex:0</td>\n      <td>False</td>\n      <td>sp|P0AGK8|ISCR_ECOLI HTH-type transcriptional ...</td>\n      <td>2</td>\n      <td>1.000718</td>\n      <td>0.002557</td>\n      <td>True</td>\n      <td>1055.0</td>\n      <td>1.000000</td>\n      <td>0.000415</td>\n      <td>True</td>\n      <td>1.0</td>\n      <td>1</td>\n      <td>0.000005</td>\n    </tr>\n  </tbody>\n</table>\n</div>"
     },
     "execution_count": 79,
     "metadata": {},
     "output_type": "execute_result"
    }
   ],
   "source": [
    "df.loc[specs]"
   ],
   "metadata": {
    "collapsed": false,
    "ExecuteTime": {
     "end_time": "2023-07-16T14:44:44.910006Z",
     "start_time": "2023-07-16T14:44:44.761258Z"
    }
   }
  },
  {
   "cell_type": "code",
   "execution_count": 80,
   "outputs": [
    {
     "ename": "KeyError",
     "evalue": "'top_target_comet_2020_01_4'",
     "output_type": "error",
     "traceback": [
      "\u001B[0;31m---------------------------------------------------------------------------\u001B[0m",
      "\u001B[0;31mKeyError\u001B[0m                                  Traceback (most recent call last)",
      "File \u001B[0;32m~/.pyenv/versions/pf_dev/lib/python3.11/site-packages/pandas/core/indexes/base.py:3652\u001B[0m, in \u001B[0;36mIndex.get_loc\u001B[0;34m(self, key)\u001B[0m\n\u001B[1;32m   3651\u001B[0m \u001B[38;5;28;01mtry\u001B[39;00m:\n\u001B[0;32m-> 3652\u001B[0m     \u001B[38;5;28;01mreturn\u001B[39;00m \u001B[38;5;28;43mself\u001B[39;49m\u001B[38;5;241;43m.\u001B[39;49m\u001B[43m_engine\u001B[49m\u001B[38;5;241;43m.\u001B[39;49m\u001B[43mget_loc\u001B[49m\u001B[43m(\u001B[49m\u001B[43mcasted_key\u001B[49m\u001B[43m)\u001B[49m\n\u001B[1;32m   3653\u001B[0m \u001B[38;5;28;01mexcept\u001B[39;00m \u001B[38;5;167;01mKeyError\u001B[39;00m \u001B[38;5;28;01mas\u001B[39;00m err:\n",
      "File \u001B[0;32m~/.pyenv/versions/pf_dev/lib/python3.11/site-packages/pandas/_libs/index.pyx:147\u001B[0m, in \u001B[0;36mpandas._libs.index.IndexEngine.get_loc\u001B[0;34m()\u001B[0m\n",
      "File \u001B[0;32m~/.pyenv/versions/pf_dev/lib/python3.11/site-packages/pandas/_libs/index.pyx:176\u001B[0m, in \u001B[0;36mpandas._libs.index.IndexEngine.get_loc\u001B[0;34m()\u001B[0m\n",
      "File \u001B[0;32mpandas/_libs/hashtable_class_helper.pxi:7080\u001B[0m, in \u001B[0;36mpandas._libs.hashtable.PyObjectHashTable.get_item\u001B[0;34m()\u001B[0m\n",
      "File \u001B[0;32mpandas/_libs/hashtable_class_helper.pxi:7088\u001B[0m, in \u001B[0;36mpandas._libs.hashtable.PyObjectHashTable.get_item\u001B[0;34m()\u001B[0m\n",
      "\u001B[0;31mKeyError\u001B[0m: 'top_target_comet_2020_01_4'",
      "\nThe above exception was the direct cause of the following exception:\n",
      "\u001B[0;31mKeyError\u001B[0m                                  Traceback (most recent call last)",
      "Cell \u001B[0;32mIn[80], line 1\u001B[0m\n\u001B[0;32m----> 1\u001B[0m mask \u001B[38;5;241m=\u001B[39m (df[\u001B[38;5;124m\"\u001B[39m\u001B[38;5;124mtop_target_xgboost\u001B[39m\u001B[38;5;124m\"\u001B[39m]) \u001B[38;5;241m&\u001B[39m (df[\u001B[38;5;124m\"\u001B[39m\u001B[38;5;124mtop_target_random_forest\u001B[39m\u001B[38;5;124m\"\u001B[39m]) \u001B[38;5;241m&\u001B[39m (\u001B[38;5;241m~\u001B[39m\u001B[43mdf\u001B[49m\u001B[43m[\u001B[49m\u001B[38;5;124;43m\"\u001B[39;49m\u001B[38;5;124;43mtop_target_comet_2020_01_4\u001B[39;49m\u001B[38;5;124;43m\"\u001B[39;49m\u001B[43m]\u001B[49m) \u001B[38;5;241m&\u001B[39m (\u001B[38;5;241m~\u001B[39mdf[\u001B[38;5;124m\"\u001B[39m\u001B[38;5;124mtop_target_mascot_2_6_2\u001B[39m\u001B[38;5;124m\"\u001B[39m]) \u001B[38;5;241m&\u001B[39m (\u001B[38;5;241m~\u001B[39mdf[\u001B[38;5;124m\"\u001B[39m\u001B[38;5;124mtop_target_msamanda_2_0_0_17442\u001B[39m\u001B[38;5;124m\"\u001B[39m]) \u001B[38;5;241m&\u001B[39m (\u001B[38;5;241m~\u001B[39mdf[\u001B[38;5;124m\"\u001B[39m\u001B[38;5;124mtop_target_msfragger_3_0\u001B[39m\u001B[38;5;124m\"\u001B[39m]) \u001B[38;5;241m&\u001B[39m (\u001B[38;5;241m~\u001B[39mdf[\u001B[38;5;124m\"\u001B[39m\u001B[38;5;124mtop_target_msgfplus_2021_03_22\u001B[39m\u001B[38;5;124m\"\u001B[39m]) \u001B[38;5;241m&\u001B[39m (\u001B[38;5;241m~\u001B[39mdf[\u001B[38;5;124m\"\u001B[39m\u001B[38;5;124mtop_target_omssa_2_1_9\u001B[39m\u001B[38;5;124m\"\u001B[39m])\n\u001B[1;32m      2\u001B[0m df\u001B[38;5;241m.\u001B[39mloc[mask, \u001B[38;5;124m\"\u001B[39m\u001B[38;5;124mspectrum_id\u001B[39m\u001B[38;5;124m\"\u001B[39m]\u001B[38;5;241m.\u001B[39mhead(\u001B[38;5;241m5\u001B[39m)\u001B[38;5;241m.\u001B[39mto_list()\n",
      "File \u001B[0;32m~/.pyenv/versions/pf_dev/lib/python3.11/site-packages/pandas/core/frame.py:3761\u001B[0m, in \u001B[0;36mDataFrame.__getitem__\u001B[0;34m(self, key)\u001B[0m\n\u001B[1;32m   3759\u001B[0m \u001B[38;5;28;01mif\u001B[39;00m \u001B[38;5;28mself\u001B[39m\u001B[38;5;241m.\u001B[39mcolumns\u001B[38;5;241m.\u001B[39mnlevels \u001B[38;5;241m>\u001B[39m \u001B[38;5;241m1\u001B[39m:\n\u001B[1;32m   3760\u001B[0m     \u001B[38;5;28;01mreturn\u001B[39;00m \u001B[38;5;28mself\u001B[39m\u001B[38;5;241m.\u001B[39m_getitem_multilevel(key)\n\u001B[0;32m-> 3761\u001B[0m indexer \u001B[38;5;241m=\u001B[39m \u001B[38;5;28;43mself\u001B[39;49m\u001B[38;5;241;43m.\u001B[39;49m\u001B[43mcolumns\u001B[49m\u001B[38;5;241;43m.\u001B[39;49m\u001B[43mget_loc\u001B[49m\u001B[43m(\u001B[49m\u001B[43mkey\u001B[49m\u001B[43m)\u001B[49m\n\u001B[1;32m   3762\u001B[0m \u001B[38;5;28;01mif\u001B[39;00m is_integer(indexer):\n\u001B[1;32m   3763\u001B[0m     indexer \u001B[38;5;241m=\u001B[39m [indexer]\n",
      "File \u001B[0;32m~/.pyenv/versions/pf_dev/lib/python3.11/site-packages/pandas/core/indexes/base.py:3654\u001B[0m, in \u001B[0;36mIndex.get_loc\u001B[0;34m(self, key)\u001B[0m\n\u001B[1;32m   3652\u001B[0m     \u001B[38;5;28;01mreturn\u001B[39;00m \u001B[38;5;28mself\u001B[39m\u001B[38;5;241m.\u001B[39m_engine\u001B[38;5;241m.\u001B[39mget_loc(casted_key)\n\u001B[1;32m   3653\u001B[0m \u001B[38;5;28;01mexcept\u001B[39;00m \u001B[38;5;167;01mKeyError\u001B[39;00m \u001B[38;5;28;01mas\u001B[39;00m err:\n\u001B[0;32m-> 3654\u001B[0m     \u001B[38;5;28;01mraise\u001B[39;00m \u001B[38;5;167;01mKeyError\u001B[39;00m(key) \u001B[38;5;28;01mfrom\u001B[39;00m \u001B[38;5;21;01merr\u001B[39;00m\n\u001B[1;32m   3655\u001B[0m \u001B[38;5;28;01mexcept\u001B[39;00m \u001B[38;5;167;01mTypeError\u001B[39;00m:\n\u001B[1;32m   3656\u001B[0m     \u001B[38;5;66;03m# If we have a listlike key, _check_indexing_error will raise\u001B[39;00m\n\u001B[1;32m   3657\u001B[0m     \u001B[38;5;66;03m#  InvalidIndexError. Otherwise we fall through and re-raise\u001B[39;00m\n\u001B[1;32m   3658\u001B[0m     \u001B[38;5;66;03m#  the TypeError.\u001B[39;00m\n\u001B[1;32m   3659\u001B[0m     \u001B[38;5;28mself\u001B[39m\u001B[38;5;241m.\u001B[39m_check_indexing_error(key)\n",
      "\u001B[0;31mKeyError\u001B[0m: 'top_target_comet_2020_01_4'"
     ]
    }
   ],
   "source": [
    "mask = (df[\"top_target_xgboost\"]) & (df[\"top_target_random_forest\"]) & (~df[\"top_target_comet_2020_01_4\"]) & (~df[\"top_target_mascot_2_6_2\"]) & (~df[\"top_target_msamanda_2_0_0_17442\"]) & (~df[\"top_target_msfragger_3_0\"]) & (~df[\"top_target_msgfplus_2021_03_22\"]) & (~df[\"top_target_omssa_2_1_9\"])\n",
    "df.loc[mask, \"spectrum_id\"].head(5).to_list()"
   ],
   "metadata": {
    "collapsed": false,
    "ExecuteTime": {
     "end_time": "2023-07-16T14:44:45.046034Z",
     "start_time": "2023-07-16T14:44:44.784844Z"
    }
   }
  },
  {
   "cell_type": "code",
   "execution_count": null,
   "outputs": [],
   "source": [
    "df[df[\"spectrum_id\"] == 27326]"
   ],
   "metadata": {
    "collapsed": false,
    "ExecuteTime": {
     "start_time": "2023-07-16T14:44:45.000952Z"
    }
   }
  },
  {
   "cell_type": "code",
   "execution_count": null,
   "outputs": [],
   "source": [
    "df[(df[\"sequence\"].str[0] == \"K\")&df[\"modifications\"].str.contains(\"TMT6plex:1;\")&df[\"reported_by_msfragger_3_0\"]]"
   ],
   "metadata": {
    "collapsed": false,
    "ExecuteTime": {
     "start_time": "2023-07-16T14:44:45.002105Z"
    }
   }
  },
  {
   "cell_type": "code",
   "execution_count": null,
   "outputs": [],
   "source": [
    "df[df[\"spectrum_id\"] == 32304]"
   ],
   "metadata": {
    "collapsed": false,
    "ExecuteTime": {
     "start_time": "2023-07-16T14:44:45.004698Z"
    }
   }
  },
  {
   "cell_type": "code",
   "execution_count": null,
   "outputs": [],
   "source": [],
   "metadata": {
    "collapsed": false,
    "ExecuteTime": {
     "start_time": "2023-07-16T14:44:45.006714Z"
    }
   }
  },
  {
   "cell_type": "code",
   "execution_count": null,
   "outputs": [],
   "source": [],
   "metadata": {
    "collapsed": false,
    "ExecuteTime": {
     "start_time": "2023-07-16T14:44:45.008208Z"
    }
   }
  },
  {
   "cell_type": "code",
   "execution_count": 81,
   "outputs": [],
   "source": [
    "df = pd.read_csv(\"xgb_v_rf_q_value_lines.csv\")"
   ],
   "metadata": {
    "collapsed": false,
    "ExecuteTime": {
     "end_time": "2023-07-16T14:45:39.981166Z",
     "start_time": "2023-07-16T14:45:39.957873Z"
    }
   }
  },
  {
   "cell_type": "code",
   "execution_count": 82,
   "outputs": [
    {
     "data": {
      "text/plain": "  Dataset  q-value threshold                Engine  n PSMs\n0     E13             0.0001               XGBoost     778\n1     E13             0.0001       Comet 2020.01.4       0\n2     E13             0.0001          Mascot 2.6.2    4078\n3     E13             0.0001  MSAmanda 2.0.0.17442    4436\n4     E13             0.0001         MSFragger 3.0    3890",
      "text/html": "<div>\n<style scoped>\n    .dataframe tbody tr th:only-of-type {\n        vertical-align: middle;\n    }\n\n    .dataframe tbody tr th {\n        vertical-align: top;\n    }\n\n    .dataframe thead th {\n        text-align: right;\n    }\n</style>\n<table border=\"1\" class=\"dataframe\">\n  <thead>\n    <tr style=\"text-align: right;\">\n      <th></th>\n      <th>Dataset</th>\n      <th>q-value threshold</th>\n      <th>Engine</th>\n      <th>n PSMs</th>\n    </tr>\n  </thead>\n  <tbody>\n    <tr>\n      <th>0</th>\n      <td>E13</td>\n      <td>0.0001</td>\n      <td>XGBoost</td>\n      <td>778</td>\n    </tr>\n    <tr>\n      <th>1</th>\n      <td>E13</td>\n      <td>0.0001</td>\n      <td>Comet 2020.01.4</td>\n      <td>0</td>\n    </tr>\n    <tr>\n      <th>2</th>\n      <td>E13</td>\n      <td>0.0001</td>\n      <td>Mascot 2.6.2</td>\n      <td>4078</td>\n    </tr>\n    <tr>\n      <th>3</th>\n      <td>E13</td>\n      <td>0.0001</td>\n      <td>MSAmanda 2.0.0.17442</td>\n      <td>4436</td>\n    </tr>\n    <tr>\n      <th>4</th>\n      <td>E13</td>\n      <td>0.0001</td>\n      <td>MSFragger 3.0</td>\n      <td>3890</td>\n    </tr>\n  </tbody>\n</table>\n</div>"
     },
     "execution_count": 82,
     "metadata": {},
     "output_type": "execute_result"
    }
   ],
   "source": [
    "df.head(5)"
   ],
   "metadata": {
    "collapsed": false,
    "ExecuteTime": {
     "end_time": "2023-07-16T14:45:41.166453Z",
     "start_time": "2023-07-16T14:45:41.155150Z"
    }
   }
  },
  {
   "cell_type": "code",
   "execution_count": 83,
   "outputs": [
    {
     "data": {
      "text/plain": "     Dataset  q-value threshold                Engine  n PSMs\n528      E13               0.01               XGBoost   20078\n529      E13               0.01       Comet 2020.01.4   11459\n530      E13               0.01          Mascot 2.6.2   12406\n531      E13               0.01  MSAmanda 2.0.0.17442   10332\n532      E13               0.01         MSFragger 3.0   11653\n533      E13               0.01      MSGF+ 2021.03.22   15515\n534      E13               0.01           OMSSA 2.1.9    9888\n535      E13               0.01         Random Forest   19911\n1328     E32               0.01               XGBoost   22742\n1329     E32               0.01       Comet 2020.01.4   14152\n1330     E32               0.01          Mascot 2.6.2   14236\n1331     E32               0.01  MSAmanda 2.0.0.17442   14234\n1332     E32               0.01         MSFragger 3.0   15346\n1333     E32               0.01      MSGF+ 2021.03.22   18602\n1334     E32               0.01           OMSSA 2.1.9   11576\n1335     E32               0.01         Random Forest   22723\n2128     E41               0.01               XGBoost   19440\n2129     E41               0.01       Comet 2020.01.4    8437\n2130     E41               0.01          Mascot 2.6.2   10553\n2131     E41               0.01  MSAmanda 2.0.0.17442    9577\n2132     E41               0.01         MSFragger 3.0   10957\n2133     E41               0.01      MSGF+ 2021.03.22   14995\n2134     E41               0.01           OMSSA 2.1.9    8219\n2135     E41               0.01         Random Forest   19274\n2928     E50               0.01               XGBoost   20052\n2929     E50               0.01       Comet 2020.01.4    7919\n2930     E50               0.01          Mascot 2.6.2   11622\n2931     E50               0.01  MSAmanda 2.0.0.17442   11012\n2932     E50               0.01         MSFragger 3.0   12529\n2933     E50               0.01      MSGF+ 2021.03.22   16038\n2934     E50               0.01           OMSSA 2.1.9    8854\n2935     E50               0.01         Random Forest   19721",
      "text/html": "<div>\n<style scoped>\n    .dataframe tbody tr th:only-of-type {\n        vertical-align: middle;\n    }\n\n    .dataframe tbody tr th {\n        vertical-align: top;\n    }\n\n    .dataframe thead th {\n        text-align: right;\n    }\n</style>\n<table border=\"1\" class=\"dataframe\">\n  <thead>\n    <tr style=\"text-align: right;\">\n      <th></th>\n      <th>Dataset</th>\n      <th>q-value threshold</th>\n      <th>Engine</th>\n      <th>n PSMs</th>\n    </tr>\n  </thead>\n  <tbody>\n    <tr>\n      <th>528</th>\n      <td>E13</td>\n      <td>0.01</td>\n      <td>XGBoost</td>\n      <td>20078</td>\n    </tr>\n    <tr>\n      <th>529</th>\n      <td>E13</td>\n      <td>0.01</td>\n      <td>Comet 2020.01.4</td>\n      <td>11459</td>\n    </tr>\n    <tr>\n      <th>530</th>\n      <td>E13</td>\n      <td>0.01</td>\n      <td>Mascot 2.6.2</td>\n      <td>12406</td>\n    </tr>\n    <tr>\n      <th>531</th>\n      <td>E13</td>\n      <td>0.01</td>\n      <td>MSAmanda 2.0.0.17442</td>\n      <td>10332</td>\n    </tr>\n    <tr>\n      <th>532</th>\n      <td>E13</td>\n      <td>0.01</td>\n      <td>MSFragger 3.0</td>\n      <td>11653</td>\n    </tr>\n    <tr>\n      <th>533</th>\n      <td>E13</td>\n      <td>0.01</td>\n      <td>MSGF+ 2021.03.22</td>\n      <td>15515</td>\n    </tr>\n    <tr>\n      <th>534</th>\n      <td>E13</td>\n      <td>0.01</td>\n      <td>OMSSA 2.1.9</td>\n      <td>9888</td>\n    </tr>\n    <tr>\n      <th>535</th>\n      <td>E13</td>\n      <td>0.01</td>\n      <td>Random Forest</td>\n      <td>19911</td>\n    </tr>\n    <tr>\n      <th>1328</th>\n      <td>E32</td>\n      <td>0.01</td>\n      <td>XGBoost</td>\n      <td>22742</td>\n    </tr>\n    <tr>\n      <th>1329</th>\n      <td>E32</td>\n      <td>0.01</td>\n      <td>Comet 2020.01.4</td>\n      <td>14152</td>\n    </tr>\n    <tr>\n      <th>1330</th>\n      <td>E32</td>\n      <td>0.01</td>\n      <td>Mascot 2.6.2</td>\n      <td>14236</td>\n    </tr>\n    <tr>\n      <th>1331</th>\n      <td>E32</td>\n      <td>0.01</td>\n      <td>MSAmanda 2.0.0.17442</td>\n      <td>14234</td>\n    </tr>\n    <tr>\n      <th>1332</th>\n      <td>E32</td>\n      <td>0.01</td>\n      <td>MSFragger 3.0</td>\n      <td>15346</td>\n    </tr>\n    <tr>\n      <th>1333</th>\n      <td>E32</td>\n      <td>0.01</td>\n      <td>MSGF+ 2021.03.22</td>\n      <td>18602</td>\n    </tr>\n    <tr>\n      <th>1334</th>\n      <td>E32</td>\n      <td>0.01</td>\n      <td>OMSSA 2.1.9</td>\n      <td>11576</td>\n    </tr>\n    <tr>\n      <th>1335</th>\n      <td>E32</td>\n      <td>0.01</td>\n      <td>Random Forest</td>\n      <td>22723</td>\n    </tr>\n    <tr>\n      <th>2128</th>\n      <td>E41</td>\n      <td>0.01</td>\n      <td>XGBoost</td>\n      <td>19440</td>\n    </tr>\n    <tr>\n      <th>2129</th>\n      <td>E41</td>\n      <td>0.01</td>\n      <td>Comet 2020.01.4</td>\n      <td>8437</td>\n    </tr>\n    <tr>\n      <th>2130</th>\n      <td>E41</td>\n      <td>0.01</td>\n      <td>Mascot 2.6.2</td>\n      <td>10553</td>\n    </tr>\n    <tr>\n      <th>2131</th>\n      <td>E41</td>\n      <td>0.01</td>\n      <td>MSAmanda 2.0.0.17442</td>\n      <td>9577</td>\n    </tr>\n    <tr>\n      <th>2132</th>\n      <td>E41</td>\n      <td>0.01</td>\n      <td>MSFragger 3.0</td>\n      <td>10957</td>\n    </tr>\n    <tr>\n      <th>2133</th>\n      <td>E41</td>\n      <td>0.01</td>\n      <td>MSGF+ 2021.03.22</td>\n      <td>14995</td>\n    </tr>\n    <tr>\n      <th>2134</th>\n      <td>E41</td>\n      <td>0.01</td>\n      <td>OMSSA 2.1.9</td>\n      <td>8219</td>\n    </tr>\n    <tr>\n      <th>2135</th>\n      <td>E41</td>\n      <td>0.01</td>\n      <td>Random Forest</td>\n      <td>19274</td>\n    </tr>\n    <tr>\n      <th>2928</th>\n      <td>E50</td>\n      <td>0.01</td>\n      <td>XGBoost</td>\n      <td>20052</td>\n    </tr>\n    <tr>\n      <th>2929</th>\n      <td>E50</td>\n      <td>0.01</td>\n      <td>Comet 2020.01.4</td>\n      <td>7919</td>\n    </tr>\n    <tr>\n      <th>2930</th>\n      <td>E50</td>\n      <td>0.01</td>\n      <td>Mascot 2.6.2</td>\n      <td>11622</td>\n    </tr>\n    <tr>\n      <th>2931</th>\n      <td>E50</td>\n      <td>0.01</td>\n      <td>MSAmanda 2.0.0.17442</td>\n      <td>11012</td>\n    </tr>\n    <tr>\n      <th>2932</th>\n      <td>E50</td>\n      <td>0.01</td>\n      <td>MSFragger 3.0</td>\n      <td>12529</td>\n    </tr>\n    <tr>\n      <th>2933</th>\n      <td>E50</td>\n      <td>0.01</td>\n      <td>MSGF+ 2021.03.22</td>\n      <td>16038</td>\n    </tr>\n    <tr>\n      <th>2934</th>\n      <td>E50</td>\n      <td>0.01</td>\n      <td>OMSSA 2.1.9</td>\n      <td>8854</td>\n    </tr>\n    <tr>\n      <th>2935</th>\n      <td>E50</td>\n      <td>0.01</td>\n      <td>Random Forest</td>\n      <td>19721</td>\n    </tr>\n  </tbody>\n</table>\n</div>"
     },
     "execution_count": 83,
     "metadata": {},
     "output_type": "execute_result"
    }
   ],
   "source": [
    "df[df[\"q-value threshold\"] == 0.01]"
   ],
   "metadata": {
    "collapsed": false,
    "ExecuteTime": {
     "end_time": "2023-07-16T14:45:42.106083Z",
     "start_time": "2023-07-16T14:45:42.102014Z"
    }
   }
  },
  {
   "cell_type": "code",
   "execution_count": 84,
   "outputs": [
    {
     "data": {
      "text/plain": "                        n PSMs             \n                          mean          std\nEngine                                     \nComet 2020.01.4       10491.75  2896.782281\nMSAmanda 2.0.0.17442  11288.75  2049.109298\nMSFragger 3.0         12621.25  1927.001881\nMSGF+ 2021.03.22      16287.50  1600.674129\nMascot 2.6.2          12204.25  1552.884708\nOMSSA 2.1.9            9634.25  1465.890486\nRandom Forest         20407.25  1566.754262\nXGBoost               20578.00  1472.482711",
      "text/html": "<div>\n<style scoped>\n    .dataframe tbody tr th:only-of-type {\n        vertical-align: middle;\n    }\n\n    .dataframe tbody tr th {\n        vertical-align: top;\n    }\n\n    .dataframe thead tr th {\n        text-align: left;\n    }\n\n    .dataframe thead tr:last-of-type th {\n        text-align: right;\n    }\n</style>\n<table border=\"1\" class=\"dataframe\">\n  <thead>\n    <tr>\n      <th></th>\n      <th colspan=\"2\" halign=\"left\">n PSMs</th>\n    </tr>\n    <tr>\n      <th></th>\n      <th>mean</th>\n      <th>std</th>\n    </tr>\n    <tr>\n      <th>Engine</th>\n      <th></th>\n      <th></th>\n    </tr>\n  </thead>\n  <tbody>\n    <tr>\n      <th>Comet 2020.01.4</th>\n      <td>10491.75</td>\n      <td>2896.782281</td>\n    </tr>\n    <tr>\n      <th>MSAmanda 2.0.0.17442</th>\n      <td>11288.75</td>\n      <td>2049.109298</td>\n    </tr>\n    <tr>\n      <th>MSFragger 3.0</th>\n      <td>12621.25</td>\n      <td>1927.001881</td>\n    </tr>\n    <tr>\n      <th>MSGF+ 2021.03.22</th>\n      <td>16287.50</td>\n      <td>1600.674129</td>\n    </tr>\n    <tr>\n      <th>Mascot 2.6.2</th>\n      <td>12204.25</td>\n      <td>1552.884708</td>\n    </tr>\n    <tr>\n      <th>OMSSA 2.1.9</th>\n      <td>9634.25</td>\n      <td>1465.890486</td>\n    </tr>\n    <tr>\n      <th>Random Forest</th>\n      <td>20407.25</td>\n      <td>1566.754262</td>\n    </tr>\n    <tr>\n      <th>XGBoost</th>\n      <td>20578.00</td>\n      <td>1472.482711</td>\n    </tr>\n  </tbody>\n</table>\n</div>"
     },
     "execution_count": 84,
     "metadata": {},
     "output_type": "execute_result"
    }
   ],
   "source": [
    "# get mean and standard deviation for each engine\n",
    "df[df[\"q-value threshold\"] == 0.01].groupby(\"Engine\").agg({\"n PSMs\": [\"mean\", \"std\"]})"
   ],
   "metadata": {
    "collapsed": false,
    "ExecuteTime": {
     "end_time": "2023-07-16T14:45:42.923247Z",
     "start_time": "2023-07-16T14:45:42.899947Z"
    }
   }
  },
  {
   "cell_type": "code",
   "execution_count": 85,
   "outputs": [
    {
     "data": {
      "text/plain": "                        n PSMs             \n                          mean          std\nEngine                                     \nComet 2020.01.4           0.00     0.000000\nMSAmanda 2.0.0.17442   6301.75   995.366390\nMSFragger 3.0          7338.25  1184.757746\nMSGF+ 2021.03.22       7268.25   790.548913\nMascot 2.6.2           6228.50   592.938726\nOMSSA 2.1.9            1037.25  1308.778152\nRandom Forest         11217.50  2170.819584\nXGBoost                9308.50  2186.222694",
      "text/html": "<div>\n<style scoped>\n    .dataframe tbody tr th:only-of-type {\n        vertical-align: middle;\n    }\n\n    .dataframe tbody tr th {\n        vertical-align: top;\n    }\n\n    .dataframe thead tr th {\n        text-align: left;\n    }\n\n    .dataframe thead tr:last-of-type th {\n        text-align: right;\n    }\n</style>\n<table border=\"1\" class=\"dataframe\">\n  <thead>\n    <tr>\n      <th></th>\n      <th colspan=\"2\" halign=\"left\">n PSMs</th>\n    </tr>\n    <tr>\n      <th></th>\n      <th>mean</th>\n      <th>std</th>\n    </tr>\n    <tr>\n      <th>Engine</th>\n      <th></th>\n      <th></th>\n    </tr>\n  </thead>\n  <tbody>\n    <tr>\n      <th>Comet 2020.01.4</th>\n      <td>0.00</td>\n      <td>0.000000</td>\n    </tr>\n    <tr>\n      <th>MSAmanda 2.0.0.17442</th>\n      <td>6301.75</td>\n      <td>995.366390</td>\n    </tr>\n    <tr>\n      <th>MSFragger 3.0</th>\n      <td>7338.25</td>\n      <td>1184.757746</td>\n    </tr>\n    <tr>\n      <th>MSGF+ 2021.03.22</th>\n      <td>7268.25</td>\n      <td>790.548913</td>\n    </tr>\n    <tr>\n      <th>Mascot 2.6.2</th>\n      <td>6228.50</td>\n      <td>592.938726</td>\n    </tr>\n    <tr>\n      <th>OMSSA 2.1.9</th>\n      <td>1037.25</td>\n      <td>1308.778152</td>\n    </tr>\n    <tr>\n      <th>Random Forest</th>\n      <td>11217.50</td>\n      <td>2170.819584</td>\n    </tr>\n    <tr>\n      <th>XGBoost</th>\n      <td>9308.50</td>\n      <td>2186.222694</td>\n    </tr>\n  </tbody>\n</table>\n</div>"
     },
     "execution_count": 85,
     "metadata": {},
     "output_type": "execute_result"
    }
   ],
   "source": [
    "df[df[\"q-value threshold\"] == 0.001].groupby(\"Engine\").agg({\"n PSMs\": [\"mean\", \"std\"]})"
   ],
   "metadata": {
    "collapsed": false,
    "ExecuteTime": {
     "end_time": "2023-07-16T14:45:43.467229Z",
     "start_time": "2023-07-16T14:45:43.462684Z"
    }
   }
  },
  {
   "cell_type": "code",
   "execution_count": 86,
   "outputs": [
    {
     "data": {
      "text/plain": "                       n PSMs             \n                         mean          std\nEngine                                    \nComet 2020.01.4          0.00     0.000000\nMSAmanda 2.0.0.17442  3963.50   392.853238\nMSFragger 3.0         3476.50  1371.493711\nMSGF+ 2021.03.22      2910.00  2223.319140\nMascot 2.6.2          4051.25   609.759720\nOMSSA 2.1.9            339.75    39.373214\nRandom Forest         6371.50   882.535929\nXGBoost                368.25   375.123424",
      "text/html": "<div>\n<style scoped>\n    .dataframe tbody tr th:only-of-type {\n        vertical-align: middle;\n    }\n\n    .dataframe tbody tr th {\n        vertical-align: top;\n    }\n\n    .dataframe thead tr th {\n        text-align: left;\n    }\n\n    .dataframe thead tr:last-of-type th {\n        text-align: right;\n    }\n</style>\n<table border=\"1\" class=\"dataframe\">\n  <thead>\n    <tr>\n      <th></th>\n      <th colspan=\"2\" halign=\"left\">n PSMs</th>\n    </tr>\n    <tr>\n      <th></th>\n      <th>mean</th>\n      <th>std</th>\n    </tr>\n    <tr>\n      <th>Engine</th>\n      <th></th>\n      <th></th>\n    </tr>\n  </thead>\n  <tbody>\n    <tr>\n      <th>Comet 2020.01.4</th>\n      <td>0.00</td>\n      <td>0.000000</td>\n    </tr>\n    <tr>\n      <th>MSAmanda 2.0.0.17442</th>\n      <td>3963.50</td>\n      <td>392.853238</td>\n    </tr>\n    <tr>\n      <th>MSFragger 3.0</th>\n      <td>3476.50</td>\n      <td>1371.493711</td>\n    </tr>\n    <tr>\n      <th>MSGF+ 2021.03.22</th>\n      <td>2910.00</td>\n      <td>2223.319140</td>\n    </tr>\n    <tr>\n      <th>Mascot 2.6.2</th>\n      <td>4051.25</td>\n      <td>609.759720</td>\n    </tr>\n    <tr>\n      <th>OMSSA 2.1.9</th>\n      <td>339.75</td>\n      <td>39.373214</td>\n    </tr>\n    <tr>\n      <th>Random Forest</th>\n      <td>6371.50</td>\n      <td>882.535929</td>\n    </tr>\n    <tr>\n      <th>XGBoost</th>\n      <td>368.25</td>\n      <td>375.123424</td>\n    </tr>\n  </tbody>\n</table>\n</div>"
     },
     "execution_count": 86,
     "metadata": {},
     "output_type": "execute_result"
    }
   ],
   "source": [
    "df[df[\"q-value threshold\"] == 0.0001].groupby(\"Engine\").agg({\"n PSMs\": [\"mean\", \"std\"]})"
   ],
   "metadata": {
    "collapsed": false,
    "ExecuteTime": {
     "end_time": "2023-07-16T14:45:44.137128Z",
     "start_time": "2023-07-16T14:45:44.127808Z"
    }
   }
  },
  {
   "cell_type": "code",
   "execution_count": 87,
   "outputs": [],
   "source": [
    "from scipy import stats\n",
    "# doing paired t-tests"
   ],
   "metadata": {
    "collapsed": false,
    "ExecuteTime": {
     "end_time": "2023-07-16T14:45:44.745098Z",
     "start_time": "2023-07-16T14:45:44.741571Z"
    }
   }
  },
  {
   "cell_type": "code",
   "execution_count": 88,
   "outputs": [
    {
     "data": {
      "text/plain": "TtestResult(statistic=-2.679090668600001, pvalue=0.07510697057065309, df=3)"
     },
     "execution_count": 88,
     "metadata": {},
     "output_type": "execute_result"
    }
   ],
   "source": [
    "rf_mask = (df[\"Engine\"] == \"Random Forest\") & (df[\"q-value threshold\"] == 0.01)\n",
    "xgb_mask = (df[\"Engine\"] == \"XGBoost\") & (df[\"q-value threshold\"] == 0.01)\n",
    "rf = df[rf_mask][\"n PSMs\"].to_list()\n",
    "xgb = df[xgb_mask][\"n PSMs\"].to_list()\n",
    "stats.ttest_rel(rf, xgb)"
   ],
   "metadata": {
    "collapsed": false,
    "ExecuteTime": {
     "end_time": "2023-07-16T14:45:45.302776Z",
     "start_time": "2023-07-16T14:45:45.295401Z"
    }
   }
  },
  {
   "cell_type": "code",
   "execution_count": 89,
   "outputs": [
    {
     "data": {
      "text/plain": "TtestResult(statistic=3.5290747033476975, pvalue=0.038664842179820504, df=3)"
     },
     "execution_count": 89,
     "metadata": {},
     "output_type": "execute_result"
    }
   ],
   "source": [
    "rf_mask = (df[\"Engine\"] == \"Random Forest\") & (df[\"q-value threshold\"] == 0.001)\n",
    "xgb_mask = (df[\"Engine\"] == \"XGBoost\") & (df[\"q-value threshold\"] == 0.001)\n",
    "rf = df[rf_mask][\"n PSMs\"].to_list()\n",
    "xgb = df[xgb_mask][\"n PSMs\"].to_list()\n",
    "stats.ttest_rel(rf, xgb)"
   ],
   "metadata": {
    "collapsed": false,
    "ExecuteTime": {
     "end_time": "2023-07-16T14:45:45.815670Z",
     "start_time": "2023-07-16T14:45:45.809384Z"
    }
   }
  },
  {
   "cell_type": "code",
   "execution_count": 90,
   "outputs": [
    {
     "data": {
      "text/plain": "TtestResult(statistic=10.321173504166, pvalue=0.0019399841072107904, df=3)"
     },
     "execution_count": 90,
     "metadata": {},
     "output_type": "execute_result"
    }
   ],
   "source": [
    "rf_mask = (df[\"Engine\"] == \"Random Forest\") & (df[\"q-value threshold\"] == 0.0001)\n",
    "xgb_mask = (df[\"Engine\"] == \"XGBoost\") & (df[\"q-value threshold\"] == 0.0001)\n",
    "rf = df[rf_mask][\"n PSMs\"].to_list()\n",
    "xgb = df[xgb_mask][\"n PSMs\"].to_list()\n",
    "stats.ttest_rel(rf, xgb)"
   ],
   "metadata": {
    "collapsed": false,
    "ExecuteTime": {
     "end_time": "2023-07-16T14:45:46.334493Z",
     "start_time": "2023-07-16T14:45:46.327961Z"
    }
   }
  },
  {
   "cell_type": "code",
   "execution_count": 91,
   "outputs": [
    {
     "data": {
      "text/plain": "TtestResult(statistic=26.39082316441034, pvalue=0.00011936353298406285, df=3)"
     },
     "execution_count": 91,
     "metadata": {},
     "output_type": "execute_result"
    }
   ],
   "source": [
    "rf_mask = (df[\"Engine\"] == \"Random Forest\") & (df[\"q-value threshold\"] == 0.01)\n",
    "xgb_mask = (df[\"Engine\"] == \"MSGF+ 2021.03.22\") & (df[\"q-value threshold\"] == 0.01)\n",
    "rf = df[rf_mask][\"n PSMs\"].to_list()\n",
    "xgb = df[xgb_mask][\"n PSMs\"].to_list()\n",
    "stats.ttest_rel(rf, xgb)"
   ],
   "metadata": {
    "collapsed": false,
    "ExecuteTime": {
     "end_time": "2023-07-16T14:45:47.100791Z",
     "start_time": "2023-07-16T14:45:47.091824Z"
    }
   }
  },
  {
   "cell_type": "code",
   "execution_count": 92,
   "outputs": [
    {
     "data": {
      "text/plain": "TtestResult(statistic=33.4667194426577, pvalue=5.864583264940049e-05, df=3)"
     },
     "execution_count": 92,
     "metadata": {},
     "output_type": "execute_result"
    }
   ],
   "source": [
    "rf_mask = (df[\"Engine\"] == \"XGBoost\") & (df[\"q-value threshold\"] == 0.01)\n",
    "xgb_mask = (df[\"Engine\"] == \"MSGF+ 2021.03.22\") & (df[\"q-value threshold\"] == 0.01)\n",
    "rf = df[rf_mask][\"n PSMs\"].to_list()\n",
    "xgb = df[xgb_mask][\"n PSMs\"].to_list()\n",
    "stats.ttest_rel(rf, xgb)"
   ],
   "metadata": {
    "collapsed": false,
    "ExecuteTime": {
     "end_time": "2023-07-16T14:45:47.703370Z",
     "start_time": "2023-07-16T14:45:47.688866Z"
    }
   }
  },
  {
   "cell_type": "code",
   "execution_count": null,
   "outputs": [],
   "source": [],
   "metadata": {
    "collapsed": false
   }
  }
 ],
 "metadata": {
  "kernelspec": {
   "display_name": "Python 3",
   "language": "python",
   "name": "python3"
  },
  "language_info": {
   "codemirror_mode": {
    "name": "ipython",
    "version": 2
   },
   "file_extension": ".py",
   "mimetype": "text/x-python",
   "name": "python",
   "nbconvert_exporter": "python",
   "pygments_lexer": "ipython2",
   "version": "2.7.6"
  }
 },
 "nbformat": 4,
 "nbformat_minor": 0
}
